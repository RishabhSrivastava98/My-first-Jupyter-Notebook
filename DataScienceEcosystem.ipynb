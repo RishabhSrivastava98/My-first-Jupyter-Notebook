{
 "cells": [
  {
   "cell_type": "markdown",
   "id": "1b8e9f19-081b-40c1-9110-b64a7b556813",
   "metadata": {},
   "source": [
    "# Data Science Tools and Ecosystem"
   ]
  },
  {
   "cell_type": "markdown",
   "id": "32f351ca-f653-49d0-b948-161b72a1aac1",
   "metadata": {},
   "source": [
    "In this notebook, Data Science Tools and Ecosystem are summarized."
   ]
  },
  {
   "cell_type": "markdown",
   "id": "7f8aff51-29dd-40f6-8618-9632d4713070",
   "metadata": {},
   "source": [
    "Some of the popular languages that Data Scientists use are:\n",
    "1. R.\n",
    "2. PYTHON.\n",
    "3. SQL.\n",
    "4. JAVA.\n",
    "5. C++ etc...,"
   ]
  },
  {
   "cell_type": "markdown",
   "id": "8332f16c-3493-4343-85fb-bf925771cfaa",
   "metadata": {},
   "source": [
    "Some of the commonly used libraries used by Data Scientists include:\n",
    "1. NumPy.\n",
    "2. Pandas.\n",
    "3. SciPy.\n",
    "4. PyTorch.\n",
    "5. TensorFlow.\n",
    "6. Matplotlib. etc...,"
   ]
  },
  {
   "cell_type": "markdown",
   "id": "efa9c8ea-f8fb-495f-87ac-e71f65870839",
   "metadata": {},
   "source": [
    "|Data Science Tools|\n",
    "|---|\n",
    "|TensorFlow|\n",
    "|Apache Hadoop|\n",
    "|SAS|"
   ]
  },
  {
   "cell_type": "markdown",
   "id": "105eee5c-b0ac-474b-abaa-411d849304ac",
   "metadata": {},
   "source": [
    "# Below are a few examples of evaluating arithmetic expressions in Python"
   ]
  },
  {
   "cell_type": "code",
   "execution_count": 6,
   "id": "be3c191a-dbcc-4d28-ba8e-501e447b2b0b",
   "metadata": {},
   "outputs": [
    {
     "data": {
      "text/plain": [
       "17"
      ]
     },
     "execution_count": 6,
     "metadata": {},
     "output_type": "execute_result"
    }
   ],
   "source": [
    "#This a simple arithmetic expression to mutiply then add integers\n",
    "(3*4)+5"
   ]
  },
  {
   "cell_type": "code",
   "execution_count": 7,
   "id": "4342575a-07b2-4606-a46b-1a2cff56d90d",
   "metadata": {},
   "outputs": [
    {
     "data": {
      "text/plain": [
       "3.3333333333333335"
      ]
     },
     "execution_count": 7,
     "metadata": {},
     "output_type": "execute_result"
    }
   ],
   "source": [
    "#This will convert 200 minutes to hours by diving by 60\n",
    "200/60"
   ]
  },
  {
   "cell_type": "markdown",
   "id": "60150df1-17cc-45eb-99f3-1272227cd2d5",
   "metadata": {},
   "source": [
    "__Objectives__\n",
    "* List popular languages for Data Science\n",
    "* List popular libraries for Data Science\n",
    "* List of well-known Data Science Tools\n",
    "* How to provide comments in the cell"
   ]
  },
  {
   "cell_type": "markdown",
   "id": "cd93349c-22c6-4ce5-b8cf-ffa6a08fa7ef",
   "metadata": {},
   "source": [
    "### AUTHOR\n",
    "\n",
    "Rishabh Srivastava"
   ]
  }
 ],
 "metadata": {
  "kernelspec": {
   "display_name": "Python 3 (ipykernel)",
   "language": "python",
   "name": "python3"
  },
  "language_info": {
   "codemirror_mode": {
    "name": "ipython",
    "version": 3
   },
   "file_extension": ".py",
   "mimetype": "text/x-python",
   "name": "python",
   "nbconvert_exporter": "python",
   "pygments_lexer": "ipython3",
   "version": "3.12.1"
  }
 },
 "nbformat": 4,
 "nbformat_minor": 5
}
